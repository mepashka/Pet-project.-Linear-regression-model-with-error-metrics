{
 "cells": [
  {
   "cell_type": "code",
   "execution_count": 9,
   "id": "364a4951",
   "metadata": {},
   "outputs": [],
   "source": [
    "import numpy as np\n",
    "from sklearn.linear_model import LinearRegression"
   ]
  },
  {
   "cell_type": "code",
   "execution_count": 10,
   "id": "716c207b",
   "metadata": {},
   "outputs": [],
   "source": [
    "def train_linear_regression_model(x_train, y_train):\n",
    "    model = LinearRegression()\n",
    "    model.fit(x_train, y_train)\n",
    "    return model\n",
    "\n",
    "def predict_values(model, x_new):\n",
    "    y_new = model.predict(x_new)\n",
    "    return y_new\n",
    "\n",
    "def print_model_parameters(model):\n",
    "    print(\"Коэффициенты модели:\", model.coef_)\n",
    "    print(\"Пересечение модели:\", model.intercept_)\n",
    "\n",
    "def calculate_r2_score(model, x, y):\n",
    "    r2_score = model.score(x, y)\n",
    "    return r2_score"
   ]
  },
  {
   "cell_type": "code",
   "execution_count": 11,
   "id": "7bdc29ad",
   "metadata": {},
   "outputs": [],
   "source": [
    "# Задаем входные данные (x) и соответствующие значения функции (y)\n",
    "x_train = np.array([1, 2, 3, 4, 5]).reshape((-1, 1))\n",
    "y_train = np.array([2, 4, 6, 8, 10])"
   ]
  },
  {
   "cell_type": "code",
   "execution_count": 12,
   "id": "d32add1e",
   "metadata": {},
   "outputs": [],
   "source": [
    "# Обучаем модель на входных данных\n",
    "model = train_linear_regression_model(x_train, y_train)"
   ]
  },
  {
   "cell_type": "code",
   "execution_count": 13,
   "id": "2eb899a8",
   "metadata": {},
   "outputs": [],
   "source": [
    "# Предсказываем значения функции для новых входных данных\n",
    "x_new = np.array([6, 7, 8]).reshape((-1, 1))\n",
    "y_new = predict_values(model, x_new)"
   ]
  },
  {
   "cell_type": "code",
   "execution_count": 14,
   "id": "868049ae",
   "metadata": {},
   "outputs": [
    {
     "name": "stdout",
     "output_type": "stream",
     "text": [
      "Предсказанные значения функции для x_new: [12. 14. 16.]\n"
     ]
    }
   ],
   "source": [
    "# Выводим предсказанные значения функции\n",
    "print(\"Предсказанные значения функции для x_new:\", y_new)"
   ]
  },
  {
   "cell_type": "code",
   "execution_count": 15,
   "id": "05eb0ae1",
   "metadata": {},
   "outputs": [
    {
     "name": "stdout",
     "output_type": "stream",
     "text": [
      "Коэффициенты модели: [2.]\n",
      "Пересечение модели: -1.7763568394002505e-15\n"
     ]
    }
   ],
   "source": [
    "# Выводим параметры модели\n",
    "print_model_parameters(model)"
   ]
  },
  {
   "cell_type": "code",
   "execution_count": 16,
   "id": "3ee420b1",
   "metadata": {},
   "outputs": [
    {
     "name": "stdout",
     "output_type": "stream",
     "text": [
      "Коэффициент детерминации (R^2): 1.0\n"
     ]
    }
   ],
   "source": [
    "# Вычисляем коэффициент детерминации (R^2)\n",
    "r2_score = calculate_r2_score(model, x_train, y_train)\n",
    "print(\"Коэффициент детерминации (R^2):\", r2_score)"
   ]
  }
 ],
 "metadata": {
  "kernelspec": {
   "display_name": "Python 3 (ipykernel)",
   "language": "python",
   "name": "python3"
  },
  "language_info": {
   "codemirror_mode": {
    "name": "ipython",
    "version": 3
   },
   "file_extension": ".py",
   "mimetype": "text/x-python",
   "name": "python",
   "nbconvert_exporter": "python",
   "pygments_lexer": "ipython3",
   "version": "3.9.13"
  },
  "toc": {
   "base_numbering": 1,
   "nav_menu": {},
   "number_sections": true,
   "sideBar": true,
   "skip_h1_title": true,
   "title_cell": "Table of Contents",
   "title_sidebar": "Contents",
   "toc_cell": true,
   "toc_position": {},
   "toc_section_display": true,
   "toc_window_display": false
  }
 },
 "nbformat": 4,
 "nbformat_minor": 5
}
