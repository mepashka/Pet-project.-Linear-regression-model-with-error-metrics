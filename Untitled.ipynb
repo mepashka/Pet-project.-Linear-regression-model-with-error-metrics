{
 "cells": [
  {
   "cell_type": "code",
   "execution_count": 1,
   "id": "a66a4a26",
   "metadata": {},
   "outputs": [],
   "source": [
    "import numpy as np\n",
    "from sklearn.linear_model import LinearRegression"
   ]
  },
  {
   "cell_type": "code",
   "execution_count": 2,
   "id": "d0ddf440",
   "metadata": {},
   "outputs": [],
   "source": [
    "# Задаем входные данные (x) и соответствующие значения функции (y)\n",
    "x = np.array([1, 2, 3, 4, 5]).reshape((-1, 1))\n",
    "y = np.array([2, 4, 6, 8, 10])"
   ]
  },
  {
   "cell_type": "code",
   "execution_count": 3,
   "id": "ad33fcea",
   "metadata": {},
   "outputs": [],
   "source": [
    "# Создаем модель линейной регрессии\n",
    "model = LinearRegression()"
   ]
  },
  {
   "cell_type": "code",
   "execution_count": 4,
   "id": "36474e5b",
   "metadata": {},
   "outputs": [
    {
     "data": {
      "text/plain": [
       "LinearRegression()"
      ]
     },
     "execution_count": 4,
     "metadata": {},
     "output_type": "execute_result"
    }
   ],
   "source": [
    "# Обучаем модель на входных данных\n",
    "model.fit(x, y)"
   ]
  },
  {
   "cell_type": "code",
   "execution_count": 5,
   "id": "46db32bc",
   "metadata": {},
   "outputs": [],
   "source": [
    "# Предсказываем значения функции для новых входных данных\n",
    "x_new = np.array([6, 7, 8]).reshape((-1, 1))\n",
    "y_new = model.predict(x_new)"
   ]
  },
  {
   "cell_type": "code",
   "execution_count": 6,
   "id": "23a2a421",
   "metadata": {},
   "outputs": [
    {
     "name": "stdout",
     "output_type": "stream",
     "text": [
      "Предсказанные значения функции для x_new: [12. 14. 16.]\n"
     ]
    }
   ],
   "source": [
    "# Выводим предсказанные значения функции\n",
    "print(\"Предсказанные значения функции для x_new:\", y_new)"
   ]
  },
  {
   "cell_type": "code",
   "execution_count": 7,
   "id": "6b0fa161",
   "metadata": {},
   "outputs": [
    {
     "name": "stdout",
     "output_type": "stream",
     "text": [
      "Коэффициенты модели: [2.]\n",
      "Пересечение модели: -1.7763568394002505e-15\n"
     ]
    }
   ],
   "source": [
    "# Выводим параметры модели\n",
    "print(\"Коэффициенты модели:\", model.coef_)\n",
    "print(\"Пересечение модели:\", model.intercept_)"
   ]
  },
  {
   "cell_type": "code",
   "execution_count": 8,
   "id": "10f1279e",
   "metadata": {},
   "outputs": [
    {
     "name": "stdout",
     "output_type": "stream",
     "text": [
      "Коэффициент детерминации (R^2): 1.0\n"
     ]
    }
   ],
   "source": [
    "# Вычисляем коэффициент детерминации (R^2)\n",
    "r2_score = model.score(x, y)\n",
    "print(\"Коэффициент детерминации (R^2):\", r2_score)"
   ]
  }
 ],
 "metadata": {
  "kernelspec": {
   "display_name": "Python 3 (ipykernel)",
   "language": "python",
   "name": "python3"
  },
  "language_info": {
   "codemirror_mode": {
    "name": "ipython",
    "version": 3
   },
   "file_extension": ".py",
   "mimetype": "text/x-python",
   "name": "python",
   "nbconvert_exporter": "python",
   "pygments_lexer": "ipython3",
   "version": "3.9.13"
  },
  "toc": {
   "base_numbering": 1,
   "nav_menu": {},
   "number_sections": true,
   "sideBar": true,
   "skip_h1_title": true,
   "title_cell": "Table of Contents",
   "title_sidebar": "Contents",
   "toc_cell": true,
   "toc_position": {},
   "toc_section_display": true,
   "toc_window_display": false
  }
 },
 "nbformat": 4,
 "nbformat_minor": 5
}
