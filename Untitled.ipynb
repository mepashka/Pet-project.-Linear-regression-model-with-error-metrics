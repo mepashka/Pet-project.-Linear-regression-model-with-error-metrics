{
 "cells": [
  {
   "cell_type": "markdown",
   "id": "d2278b2b",
   "metadata": {
    "toc": true
   },
   "source": [
    "<h1>Table of Contents<span class=\"tocSkip\"></span></h1>\n",
    "<div class=\"toc\"><ul class=\"toc-item\"></ul></div>"
   ]
  },
  {
   "cell_type": "code",
   "execution_count": 1,
   "id": "228c370f",
   "metadata": {},
   "outputs": [],
   "source": [
    "import numpy as np\n",
    "from sklearn.linear_model import LinearRegression"
   ]
  },
  {
   "cell_type": "code",
   "execution_count": 2,
   "id": "142804f5",
   "metadata": {},
   "outputs": [],
   "source": [
    "def train_linear_regression_model(x_train, y_train):\n",
    "    model = LinearRegression()\n",
    "    model.fit(x_train, y_train)\n",
    "    return model"
   ]
  },
  {
   "cell_type": "code",
   "execution_count": 3,
   "id": "ca9e0ae2",
   "metadata": {},
   "outputs": [],
   "source": [
    "def predict_values(model, x_new):\n",
    "    y_new = model.predict(x_new)\n",
    "    return y_new"
   ]
  },
  {
   "cell_type": "code",
   "execution_count": 4,
   "id": "5c4c1770",
   "metadata": {},
   "outputs": [],
   "source": [
    "def print_model_parameters(model):\n",
    "    print(\"Коэффициенты модели:\", model.coef_)\n",
    "    print(\"Пересечение модели:\", model.intercept_)"
   ]
  },
  {
   "cell_type": "code",
   "execution_count": 5,
   "id": "2f14b8af",
   "metadata": {},
   "outputs": [],
   "source": [
    "def calculate_r2_score(model, x, y):\n",
    "    r2_score = model.score(x, y)\n",
    "    return r2_score"
   ]
  },
  {
   "cell_type": "code",
   "execution_count": 6,
   "id": "e712994d",
   "metadata": {},
   "outputs": [],
   "source": [
    "def train_and_predict(x_train, y_train, x_new):\n",
    "    # Обучаем модель на входных данных\n",
    "    model = train_linear_regression_model(x_train, y_train)\n",
    "\n",
    "    # Предсказываем значения функции для новых входных данных\n",
    "    y_new = predict_values(model, x_new)\n",
    "\n",
    "    # Выводим предсказанные значения функции\n",
    "    print(\"Предсказанные значения функции для x_new:\", y_new)\n",
    "\n",
    "    # Выводим параметры модели\n",
    "    print_model_parameters(model)\n",
    "\n",
    "    # Вычисляем коэффициент детерминации (R^2)\n",
    "    r2_score = calculate_r2_score(model, x_train, y_train)\n",
    "    print(\"Коэффициент детерминации (R^2):\", r2_score)"
   ]
  },
  {
   "cell_type": "code",
   "execution_count": 7,
   "id": "7b0113a6",
   "metadata": {},
   "outputs": [],
   "source": [
    "# Задаем входные данные (x) и соответствующие значения функции (y)\n",
    "x_train = np.array([1, 2, 3, 4, 5]).reshape((-1, 1))\n",
    "y_train = np.array([2, 4, 6, 8, 10])"
   ]
  },
  {
   "cell_type": "code",
   "execution_count": 8,
   "id": "52c41105",
   "metadata": {},
   "outputs": [],
   "source": [
    "# Предсказываем значения функции для новых входных данных\n",
    "x_new = np.array([6, 7, 8]).reshape((-1, 1))"
   ]
  },
  {
   "cell_type": "code",
   "execution_count": 9,
   "id": "3ee420b1",
   "metadata": {},
   "outputs": [
    {
     "name": "stdout",
     "output_type": "stream",
     "text": [
      "Предсказанные значения функции для x_new: [12. 14. 16.]\n",
      "Коэффициенты модели: [2.]\n",
      "Пересечение модели: -1.7763568394002505e-15\n",
      "Коэффициент детерминации (R^2): 1.0\n"
     ]
    }
   ],
   "source": [
    "# Обучаем модель и выполняем предсказание\n",
    "train_and_predict(x_train, y_train, x_new)"
   ]
  }
 ],
 "metadata": {
  "kernelspec": {
   "display_name": "Python 3 (ipykernel)",
   "language": "python",
   "name": "python3"
  },
  "language_info": {
   "codemirror_mode": {
    "name": "ipython",
    "version": 3
   },
   "file_extension": ".py",
   "mimetype": "text/x-python",
   "name": "python",
   "nbconvert_exporter": "python",
   "pygments_lexer": "ipython3",
   "version": "3.9.13"
  },
  "toc": {
   "base_numbering": 1,
   "nav_menu": {},
   "number_sections": true,
   "sideBar": true,
   "skip_h1_title": true,
   "title_cell": "Table of Contents",
   "title_sidebar": "Contents",
   "toc_cell": true,
   "toc_position": {},
   "toc_section_display": true,
   "toc_window_display": false
  }
 },
 "nbformat": 4,
 "nbformat_minor": 5
}
