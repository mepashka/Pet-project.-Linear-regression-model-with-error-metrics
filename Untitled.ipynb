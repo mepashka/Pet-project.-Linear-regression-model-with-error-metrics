{
 "cells": [
  {
   "cell_type": "code",
   "execution_count": 1,
   "id": "dcaa8483",
   "metadata": {},
   "outputs": [],
   "source": [
    "import numpy as np\n",
    "from sklearn.linear_model import LinearRegression"
   ]
  },
  {
   "cell_type": "code",
   "execution_count": 2,
   "id": "7489972d",
   "metadata": {},
   "outputs": [],
   "source": [
    "class LinearRegressionModel:\n",
    "    def __init__(self):\n",
    "        self.model = None\n",
    "\n",
    "    def train(self, x_train, y_train):\n",
    "        # Создание и обучение модели линейной регрессии на тренировочных данных\n",
    "        self.model = LinearRegression()\n",
    "        self.model.fit(x_train, y_train)\n",
    "\n",
    "    def predict(self, x_new):\n",
    "        # Предсказание значений функции для новых входных данных\n",
    "        return self.model.predict(x_new)\n",
    "\n",
    "    def print_parameters(self):\n",
    "        # Вывод параметров модели - коэффициентов и пересечения\n",
    "        print(\"Коэффициенты модели:\", self.model.coef_)\n",
    "        print(\"Пересечение модели:\", self.model.intercept_)\n",
    "\n",
    "    def calculate_r2_score(self, x, y):\n",
    "        # Вычисление коэффициента детерминации (R^2)\n",
    "        return self.model.score(x, y)"
   ]
  },
  {
   "cell_type": "code",
   "execution_count": 3,
   "id": "39fb6147",
   "metadata": {},
   "outputs": [],
   "source": [
    "def train_and_predict(x_train, y_train, x_new):\n",
    "    # Создание экземпляра класса LinearRegressionModel\n",
    "    model = LinearRegressionModel()\n",
    "\n",
    "    # Обучение модели на тренировочных данных\n",
    "    model.train(x_train, y_train)\n",
    "\n",
    "    # Предсказание значений функции для новых входных данных\n",
    "    y_new = model.predict(x_new)\n",
    "    print(\"Предсказанные значения функции для x_new:\", y_new)\n",
    "\n",
    "    # Вывод параметров модели\n",
    "    model.print_parameters()\n",
    "\n",
    "    # Вычисление коэффициента детерминации (R^2)\n",
    "    r2_score = model.calculate_r2_score(x_train, y_train)\n",
    "    print(\"Коэффициент детерминации (R^2):\", r2_score)"
   ]
  },
  {
   "cell_type": "code",
   "execution_count": 4,
   "id": "49ad5e39",
   "metadata": {},
   "outputs": [],
   "source": [
    "# Задаем входные данные (x) и соответствующие значения функции (y)\n",
    "x_train = np.array([1, 2, 3, 4, 5]).reshape((-1, 1))\n",
    "y_train = np.array([2, 4, 6, 8, 10])"
   ]
  },
  {
   "cell_type": "code",
   "execution_count": 5,
   "id": "87162429",
   "metadata": {},
   "outputs": [],
   "source": [
    "# Предсказываем значения функции для новых входных данных\n",
    "x_new = np.array([6, 7, 8]).reshape((-1, 1))"
   ]
  },
  {
   "cell_type": "code",
   "execution_count": 6,
   "id": "3ee420b1",
   "metadata": {},
   "outputs": [
    {
     "name": "stdout",
     "output_type": "stream",
     "text": [
      "Предсказанные значения функции для x_new: [12. 14. 16.]\n",
      "Коэффициенты модели: [2.]\n",
      "Пересечение модели: -1.7763568394002505e-15\n",
      "Коэффициент детерминации (R^2): 1.0\n"
     ]
    }
   ],
   "source": [
    "# Обучаем модель и выполняем предсказание\n",
    "train_and_predict(x_train, y_train, x_new)"
   ]
  }
 ],
 "metadata": {
  "kernelspec": {
   "display_name": "Python 3 (ipykernel)",
   "language": "python",
   "name": "python3"
  },
  "language_info": {
   "codemirror_mode": {
    "name": "ipython",
    "version": 3
   },
   "file_extension": ".py",
   "mimetype": "text/x-python",
   "name": "python",
   "nbconvert_exporter": "python",
   "pygments_lexer": "ipython3",
   "version": "3.9.13"
  },
  "toc": {
   "base_numbering": 1,
   "nav_menu": {},
   "number_sections": true,
   "sideBar": true,
   "skip_h1_title": true,
   "title_cell": "Table of Contents",
   "title_sidebar": "Contents",
   "toc_cell": true,
   "toc_position": {},
   "toc_section_display": true,
   "toc_window_display": false
  }
 },
 "nbformat": 4,
 "nbformat_minor": 5
}
