{
 "cells": [
  {
   "cell_type": "markdown",
   "id": "ce976f32",
   "metadata": {},
   "source": [
    "В этом коде были добавлены следующие возможности:\n",
    "\n",
    "1. Расчет среднеквадратичной ошибки (MSE) с помощью функции calculate_mse.\n",
    "2. Расчет средней абсолютной ошибки (MAE) с помощью функции calculate_mae.\n",
    "3. Вывод MSE и MAE вместе с другими метриками модели.\n",
    "4. Визуализация исходных данных и предсказанных значений функции на одном графике."
   ]
  },
  {
   "cell_type": "code",
   "execution_count": 1,
   "id": "72719bad",
   "metadata": {},
   "outputs": [],
   "source": [
    "import numpy as np\n",
    "from sklearn.linear_model import LinearRegression\n",
    "import matplotlib.pyplot as plt\n",
    "from sklearn.metrics import mean_squared_error, mean_absolute_error"
   ]
  },
  {
   "cell_type": "code",
   "execution_count": 2,
   "id": "01c3d15f",
   "metadata": {},
   "outputs": [],
   "source": [
    "class LinearRegressionModel:\n",
    "    def __init__(self):\n",
    "        self.model = None\n",
    "\n",
    "    def train(self, x_train, y_train):\n",
    "        self.model = LinearRegression()\n",
    "        self.model.fit(x_train, y_train)\n",
    "\n",
    "    def predict(self, x_new):\n",
    "        return self.model.predict(x_new)\n",
    "\n",
    "    def print_parameters(self):\n",
    "        print(\"Коэффициенты модели:\", self.model.coef_)\n",
    "        print(\"Пересечение модели:\", self.model.intercept_)\n",
    "\n",
    "    def calculate_r2_score(self, x, y):\n",
    "        return self.model.score(x, y)\n",
    "\n",
    "    def calculate_mse(self, x, y):\n",
    "        y_pred = self.model.predict(x)\n",
    "        return mean_squared_error(y, y_pred)\n",
    "\n",
    "    def calculate_mae(self, x, y):\n",
    "        y_pred = self.model.predict(x)\n",
    "        return mean_absolute_error(y, y_pred)"
   ]
  },
  {
   "cell_type": "code",
   "execution_count": 3,
   "id": "a862aeaf",
   "metadata": {},
   "outputs": [],
   "source": [
    "def train_and_predict(x_train, y_train, x_new):\n",
    "    model = LinearRegressionModel()\n",
    "    model.train(x_train, y_train)\n",
    "    y_new = model.predict(x_new)\n",
    "    print(\"Предсказанные значения функции для x_new:\", y_new)\n",
    "    model.print_parameters()\n",
    "    r2_score = model.calculate_r2_score(x_train, y_train)\n",
    "    mse = model.calculate_mse(x_train, y_train)\n",
    "    mae = model.calculate_mae(x_train, y_train)\n",
    "    print(\"Коэффициент детерминации (R^2):\", r2_score)\n",
    "    print(\"Средняя квадратичная ошибка (MSE):\", mse)\n",
    "    print(\"Средняя абсолютная ошибка (MAE):\", mae)\n",
    "    plt.scatter(x_train, y_train, color='blue', label='Исходные данные')\n",
    "    plt.plot(x_new, y_new, color='red', label='Предсказанные значения')\n",
    "    plt.xlabel('x')\n",
    "    plt.ylabel('y')\n",
    "    plt.legend()\n",
    "    plt.show()"
   ]
  },
  {
   "cell_type": "code",
   "execution_count": 4,
   "id": "17a44af4",
   "metadata": {},
   "outputs": [],
   "source": [
    "x_train = np.array([1, 2, 3, 4, 5]).reshape((-1, 1))\n",
    "y_train = np.array([2, 4, 6, 8, 10])\n",
    "x_new = np.array([6, 7, 8]).reshape((-1, 1))"
   ]
  },
  {
   "cell_type": "code",
   "execution_count": 5,
   "id": "c70231ae",
   "metadata": {},
   "outputs": [
    {
     "name": "stdout",
     "output_type": "stream",
     "text": [
      "Предсказанные значения функции для x_new: [12. 14. 16.]\n",
      "Коэффициенты модели: [2.]\n",
      "Пересечение модели: -1.7763568394002505e-15\n",
      "Коэффициент детерминации (R^2): 1.0\n",
      "Средняя квадратичная ошибка (MSE): 5.127595883936577e-31\n",
      "Средняя абсолютная ошибка (MAE): 4.440892098500626e-16\n"
     ]
    },
    {
     "data": {
      "image/png": "[encoded data removed]",
      "text/plain": [
       "<Figure size 640x480 with 1 Axes>"
      ]
     },
     "metadata": {},
     "output_type": "display_data"
    }
   ],
   "source": [
    "train_and_predict(x_train, y_train, x_new)"
   ]
  }
 ],
 "metadata": {
  "kernelspec": {
   "display_name": "Python 3 (ipykernel)",
   "language": "python",
   "name": "python3"
  },
  "language_info": {
   "codemirror_mode": {
    "name": "ipython",
    "version": 3
   },
   "file_extension": ".py",
   "mimetype": "text/x-python",
   "name": "python",
   "nbconvert_exporter": "python",
   "pygments_lexer": "ipython3",
   "version": "3.9.13"
  },
  "toc": {
   "base_numbering": 1,
   "nav_menu": {},
   "number_sections": true,
   "sideBar": true,
   "skip_h1_title": true,
   "title_cell": "Table of Contents",
   "title_sidebar": "Contents",
   "toc_cell": true,
   "toc_position": {},
   "toc_section_display": true,
   "toc_window_display": false
  }
 },
 "nbformat": 4,
 "nbformat_minor": 5
}
